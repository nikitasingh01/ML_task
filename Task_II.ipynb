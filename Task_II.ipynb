{
  "nbformat": 4,
  "nbformat_minor": 0,
  "metadata": {
    "colab": {
      "name": "Task_II.ipynb",
      "provenance": [],
      "collapsed_sections": [],
      "toc_visible": true
    },
    "kernelspec": {
      "display_name": "Python 3",
      "name": "python3"
    },
    "language_info": {
      "name": "python"
    },
    "accelerator": "GPU"
  },
  "cells": [
    {
      "cell_type": "markdown",
      "metadata": {
        "id": "Ki4VR8bxhfU-"
      },
      "source": [
        "#Training a new model on the given dataset"
      ]
    },
    {
      "cell_type": "code",
      "metadata": {
        "id": "In1QTT_0asJY"
      },
      "source": [
        "#Importing libraries\n",
        "\n",
        "import numpy as np\n",
        "from keras.utils import to_categorical\n",
        "import tensorflow as tf\n",
        "import sklearn.model_selection as model_selection\n",
        "from keras.callbacks import ModelCheckpoint"
      ],
      "execution_count": null,
      "outputs": []
    },
    {
      "cell_type": "code",
      "metadata": {
        "colab": {
          "base_uri": "https://localhost:8080/"
        },
        "id": "gokLpLImiFQZ",
        "outputId": "40f639d7-7578-4a90-a919-b2ec63e6cda7"
      },
      "source": [
        "#To extract the rar file\n",
        "\n",
        "!pip install RarFile\n",
        "\n",
        "from rarfile import RarFile\n",
        "\n",
        "with RarFile(\"/content/train.rar\") as rf:\n",
        "    rf.extractall()"
      ],
      "execution_count": null,
      "outputs": [
        {
          "output_type": "stream",
          "text": [
            "Collecting RarFile\n",
            "  Downloading https://files.pythonhosted.org/packages/95/f4/c92fab227c7457e3b76a4096ccb655ded9deac869849cb03afbe55dfdc1e/rarfile-4.0-py3-none-any.whl\n",
            "Installing collected packages: RarFile\n",
            "Successfully installed RarFile-4.0\n"
          ],
          "name": "stdout"
        }
      ]
    },
    {
      "cell_type": "code",
      "metadata": {
        "colab": {
          "base_uri": "https://localhost:8080/"
        },
        "id": "6kpliaEyicdT",
        "outputId": "dc51a097-ae4f-448d-f6df-fdcd13828541"
      },
      "source": [
        "training_data = tf.keras.preprocessing.image_dataset_from_directory('/content/train', \n",
        "                                                                    labels='inferred', \n",
        "                                                                    label_mode='categorical',\n",
        "                                                                    batch_size=32,\n",
        "                                                                    image_size=(64, 64), color_mode='grayscale', \n",
        "                                                                    validation_split=0.1, \n",
        "                                                                    subset='training', \n",
        "                                                                    seed=3)\n",
        "\n",
        "validation_data = tf.keras.preprocessing.image_dataset_from_directory('/content/train', \n",
        "                                                                    labels='inferred', \n",
        "                                                                    label_mode='categorical',\n",
        "                                                                    batch_size=32,\n",
        "                                                                    image_size=(64, 64), color_mode='grayscale', \n",
        "                                                                    validation_split=0.1, \n",
        "                                                                    subset='validation', \n",
        "                                                                    seed=3)"
      ],
      "execution_count": null,
      "outputs": [
        {
          "output_type": "stream",
          "text": [
            "Found 2480 files belonging to 62 classes.\n",
            "Using 2232 files for training.\n",
            "Found 2480 files belonging to 62 classes.\n",
            "Using 248 files for validation.\n"
          ],
          "name": "stdout"
        }
      ]
    },
    {
      "cell_type": "code",
      "metadata": {
        "colab": {
          "base_uri": "https://localhost:8080/"
        },
        "id": "oo2XmKfCRmWg",
        "outputId": "49afe667-5186-4e8a-9a07-7e47a0b1c430"
      },
      "source": [
        "train_x = []\n",
        "train_y = []\n",
        "\n",
        "test_x = []\n",
        "test_y = []\n",
        "\n",
        "for td in training_data:\n",
        "  for tx in td[0]:\n",
        "    train_x.append(tx)\n",
        "  for ty in td[1]:\n",
        "    train_y.append(ty)\n",
        "\n",
        "for td in validation_data:\n",
        "  for tx in td[0]:\n",
        "    test_x.append(tx)\n",
        "  for ty in td[1]:\n",
        "    test_y.append(ty)\n",
        "\n",
        "train_x = np.array(train_x)\n",
        "train_y = np.array(train_y)\n",
        "\n",
        "test_x = np.array(test_x)\n",
        "test_y = np.array(test_y)\n",
        "\n",
        "print(train_x.shape, train_y.shape, test_x.shape, test_y.shape)\n"
      ],
      "execution_count": null,
      "outputs": [
        {
          "output_type": "stream",
          "text": [
            "(2232, 64, 64, 1) (2232, 62) (248, 64, 64, 1) (248, 62)\n"
          ],
          "name": "stdout"
        }
      ]
    },
    {
      "cell_type": "code",
      "metadata": {
        "id": "xJQkyUwmlNfo",
        "colab": {
          "base_uri": "https://localhost:8080/"
        },
        "outputId": "e0215c6d-0eb6-449b-e969-fab01c8f40ac"
      },
      "source": [
        "from tensorflow import keras\n",
        "from tensorflow.keras.layers.experimental import preprocessing\n",
        "from keras.optimizers import Adam\n",
        "\n",
        "model = tf.keras.models.Sequential(\n",
        "    [\n",
        "        tf.keras.layers.Lambda(lambda x: x/255.0, input_shape=(64, 64, 1)),\n",
        "        tf.keras.layers.Conv2D(32, (5, 5), activation='elu'),\n",
        "        tf.keras.layers.Dropout(0.6),\n",
        "        tf.keras.layers.Conv2D(16, (3, 3), activation='elu'),\n",
        "        tf.keras.layers.MaxPooling2D((2,2)),\n",
        "        tf.keras.layers.Dropout(0.6),\n",
        "        tf.keras.layers.Flatten(),\n",
        "        tf.keras.layers.Dropout(0.6),\n",
        "        tf.keras.layers.Dense(1024, activation='relu'),\n",
        "        tf.keras.layers.Dense(256, activation='relu'),  \n",
        "        tf.keras.layers.Dropout(0.4), \n",
        "        tf.keras.layers.Dense(62, activation='softmax')     \n",
        "    ]\n",
        ")\n",
        "\n",
        "\n",
        "model.compile(optimizer=Adam(), loss='categorical_crossentropy', metrics=['accuracy'])\n",
        "\n",
        "model.summary()"
      ],
      "execution_count": null,
      "outputs": [
        {
          "output_type": "stream",
          "text": [
            "Model: \"sequential\"\n",
            "_________________________________________________________________\n",
            "Layer (type)                 Output Shape              Param #   \n",
            "=================================================================\n",
            "lambda (Lambda)              (None, 64, 64, 1)         0         \n",
            "_________________________________________________________________\n",
            "conv2d (Conv2D)              (None, 60, 60, 32)        832       \n",
            "_________________________________________________________________\n",
            "dropout (Dropout)            (None, 60, 60, 32)        0         \n",
            "_________________________________________________________________\n",
            "conv2d_1 (Conv2D)            (None, 58, 58, 16)        4624      \n",
            "_________________________________________________________________\n",
            "max_pooling2d (MaxPooling2D) (None, 29, 29, 16)        0         \n",
            "_________________________________________________________________\n",
            "dropout_1 (Dropout)          (None, 29, 29, 16)        0         \n",
            "_________________________________________________________________\n",
            "flatten (Flatten)            (None, 13456)             0         \n",
            "_________________________________________________________________\n",
            "dropout_2 (Dropout)          (None, 13456)             0         \n",
            "_________________________________________________________________\n",
            "dense (Dense)                (None, 1024)              13779968  \n",
            "_________________________________________________________________\n",
            "dense_1 (Dense)              (None, 256)               262400    \n",
            "_________________________________________________________________\n",
            "dropout_3 (Dropout)          (None, 256)               0         \n",
            "_________________________________________________________________\n",
            "dense_2 (Dense)              (None, 62)                15934     \n",
            "=================================================================\n",
            "Total params: 14,063,758\n",
            "Trainable params: 14,063,758\n",
            "Non-trainable params: 0\n",
            "_________________________________________________________________\n"
          ],
          "name": "stdout"
        }
      ]
    },
    {
      "cell_type": "code",
      "metadata": {
        "colab": {
          "base_uri": "https://localhost:8080/"
        },
        "id": "LS71jljHcayP",
        "outputId": "f127a178-df9c-40ea-b1de-ce35c3bfdee4"
      },
      "source": [
        "from keras.callbacks import TensorBoard\n",
        "from time import time\n",
        "\n",
        "\n",
        "checkpoint = ModelCheckpoint(\n",
        "        './task1/model-{epoch:03d}.h5', monitor='val_loss', verbose=0, save_best_only=True, mode='auto')\n",
        "\n",
        "tensorboard = TensorBoard(log_dir=\"log\\{}\".format(time()))\n",
        "\n",
        "model.fit(train_x,train_y, validation_data=validation_data, callbacks=[checkpoint, tensorboard], epochs=70)"
      ],
      "execution_count": null,
      "outputs": [
        {
          "output_type": "stream",
          "text": [
            "Epoch 1/70\n",
            "70/70 [==============================] - 37s 65ms/step - loss: 4.5918 - accuracy: 0.0178 - val_loss: 5.3142 - val_accuracy: 0.0081\n",
            "Epoch 2/70\n",
            "70/70 [==============================] - 3s 48ms/step - loss: 4.1319 - accuracy: 0.0246 - val_loss: 4.7036 - val_accuracy: 0.0081\n",
            "Epoch 3/70\n",
            "70/70 [==============================] - 3s 47ms/step - loss: 4.1277 - accuracy: 0.0141 - val_loss: 5.0378 - val_accuracy: 0.0081\n",
            "Epoch 4/70\n",
            "70/70 [==============================] - 3s 48ms/step - loss: 4.1261 - accuracy: 0.0184 - val_loss: 5.2730 - val_accuracy: 0.0081\n",
            "Epoch 5/70\n",
            "70/70 [==============================] - 3s 48ms/step - loss: 4.1263 - accuracy: 0.0177 - val_loss: 4.5958 - val_accuracy: 0.0121\n",
            "Epoch 6/70\n",
            "70/70 [==============================] - 3s 50ms/step - loss: 4.1240 - accuracy: 0.0122 - val_loss: 5.2412 - val_accuracy: 0.0121\n",
            "Epoch 7/70\n",
            "70/70 [==============================] - 3s 48ms/step - loss: 4.0873 - accuracy: 0.0306 - val_loss: 5.7202 - val_accuracy: 0.0121\n",
            "Epoch 8/70\n",
            "70/70 [==============================] - 3s 48ms/step - loss: 3.9317 - accuracy: 0.0532 - val_loss: 4.0817 - val_accuracy: 0.0444\n",
            "Epoch 9/70\n",
            "70/70 [==============================] - 3s 49ms/step - loss: 3.7365 - accuracy: 0.0792 - val_loss: 4.0413 - val_accuracy: 0.0605\n",
            "Epoch 10/70\n",
            "70/70 [==============================] - 3s 48ms/step - loss: 3.4536 - accuracy: 0.1207 - val_loss: 3.9451 - val_accuracy: 0.0847\n",
            "Epoch 11/70\n",
            "70/70 [==============================] - 3s 48ms/step - loss: 3.2229 - accuracy: 0.1766 - val_loss: 3.6858 - val_accuracy: 0.1573\n",
            "Epoch 12/70\n",
            "70/70 [==============================] - 3s 49ms/step - loss: 2.9566 - accuracy: 0.2112 - val_loss: 4.1658 - val_accuracy: 0.1452\n",
            "Epoch 13/70\n",
            "70/70 [==============================] - 3s 48ms/step - loss: 2.6988 - accuracy: 0.2888 - val_loss: 3.0899 - val_accuracy: 0.2218\n",
            "Epoch 14/70\n",
            "70/70 [==============================] - 3s 48ms/step - loss: 2.5690 - accuracy: 0.2844 - val_loss: 2.6334 - val_accuracy: 0.3065\n",
            "Epoch 15/70\n",
            "70/70 [==============================] - 3s 49ms/step - loss: 2.4225 - accuracy: 0.3312 - val_loss: 2.6759 - val_accuracy: 0.3306\n",
            "Epoch 16/70\n",
            "70/70 [==============================] - 3s 49ms/step - loss: 2.2735 - accuracy: 0.3687 - val_loss: 2.5410 - val_accuracy: 0.3508\n",
            "Epoch 17/70\n",
            "70/70 [==============================] - 3s 48ms/step - loss: 2.1152 - accuracy: 0.4085 - val_loss: 2.4821 - val_accuracy: 0.3790\n",
            "Epoch 18/70\n",
            "70/70 [==============================] - 3s 48ms/step - loss: 1.9927 - accuracy: 0.4131 - val_loss: 2.3672 - val_accuracy: 0.4073\n",
            "Epoch 19/70\n",
            "70/70 [==============================] - 3s 48ms/step - loss: 1.8754 - accuracy: 0.4603 - val_loss: 2.3126 - val_accuracy: 0.3871\n",
            "Epoch 20/70\n",
            "70/70 [==============================] - 3s 49ms/step - loss: 1.6544 - accuracy: 0.5156 - val_loss: 2.2633 - val_accuracy: 0.4395\n",
            "Epoch 21/70\n",
            "70/70 [==============================] - 3s 48ms/step - loss: 1.7340 - accuracy: 0.5051 - val_loss: 2.3441 - val_accuracy: 0.3992\n",
            "Epoch 22/70\n",
            "70/70 [==============================] - 3s 48ms/step - loss: 1.6216 - accuracy: 0.5285 - val_loss: 2.1330 - val_accuracy: 0.3952\n",
            "Epoch 23/70\n",
            "70/70 [==============================] - 3s 48ms/step - loss: 1.5865 - accuracy: 0.5385 - val_loss: 2.1375 - val_accuracy: 0.4234\n",
            "Epoch 24/70\n",
            "70/70 [==============================] - 3s 50ms/step - loss: 1.5404 - accuracy: 0.5531 - val_loss: 2.2640 - val_accuracy: 0.4315\n",
            "Epoch 25/70\n",
            "70/70 [==============================] - 3s 48ms/step - loss: 1.4447 - accuracy: 0.5598 - val_loss: 2.0299 - val_accuracy: 0.5040\n",
            "Epoch 26/70\n",
            "70/70 [==============================] - 3s 49ms/step - loss: 1.2974 - accuracy: 0.6130 - val_loss: 2.1679 - val_accuracy: 0.4556\n",
            "Epoch 27/70\n",
            "70/70 [==============================] - 3s 48ms/step - loss: 1.2170 - accuracy: 0.6302 - val_loss: 2.0984 - val_accuracy: 0.4758\n",
            "Epoch 28/70\n",
            "70/70 [==============================] - 3s 48ms/step - loss: 1.1713 - accuracy: 0.6460 - val_loss: 2.3804 - val_accuracy: 0.3992\n",
            "Epoch 29/70\n",
            "70/70 [==============================] - 3s 48ms/step - loss: 1.1568 - accuracy: 0.6369 - val_loss: 2.1364 - val_accuracy: 0.4476\n",
            "Epoch 30/70\n",
            "70/70 [==============================] - 3s 48ms/step - loss: 1.0893 - accuracy: 0.6547 - val_loss: 2.1947 - val_accuracy: 0.4637\n",
            "Epoch 31/70\n",
            "70/70 [==============================] - 3s 48ms/step - loss: 1.0845 - accuracy: 0.6751 - val_loss: 2.0977 - val_accuracy: 0.4960\n",
            "Epoch 32/70\n",
            "70/70 [==============================] - 3s 49ms/step - loss: 1.0355 - accuracy: 0.6845 - val_loss: 2.1124 - val_accuracy: 0.4879\n",
            "Epoch 33/70\n",
            "70/70 [==============================] - 3s 48ms/step - loss: 0.9984 - accuracy: 0.6942 - val_loss: 2.2613 - val_accuracy: 0.4556\n",
            "Epoch 34/70\n",
            "70/70 [==============================] - 3s 49ms/step - loss: 0.9729 - accuracy: 0.6993 - val_loss: 2.2177 - val_accuracy: 0.4960\n",
            "Epoch 35/70\n",
            "70/70 [==============================] - 3s 48ms/step - loss: 0.9031 - accuracy: 0.7057 - val_loss: 2.1665 - val_accuracy: 0.4476\n",
            "Epoch 36/70\n",
            "70/70 [==============================] - 3s 48ms/step - loss: 0.9310 - accuracy: 0.6999 - val_loss: 2.2850 - val_accuracy: 0.4879\n",
            "Epoch 37/70\n",
            "70/70 [==============================] - 3s 48ms/step - loss: 0.8914 - accuracy: 0.7070 - val_loss: 2.4083 - val_accuracy: 0.4677\n",
            "Epoch 38/70\n",
            "70/70 [==============================] - 3s 48ms/step - loss: 0.8957 - accuracy: 0.6999 - val_loss: 2.3030 - val_accuracy: 0.4758\n",
            "Epoch 39/70\n",
            "70/70 [==============================] - 3s 48ms/step - loss: 0.9528 - accuracy: 0.6973 - val_loss: 2.2235 - val_accuracy: 0.5000\n",
            "Epoch 40/70\n",
            "70/70 [==============================] - 3s 48ms/step - loss: 0.7913 - accuracy: 0.7382 - val_loss: 2.2533 - val_accuracy: 0.4798\n",
            "Epoch 41/70\n",
            "70/70 [==============================] - 3s 48ms/step - loss: 0.7742 - accuracy: 0.7527 - val_loss: 2.3272 - val_accuracy: 0.4960\n",
            "Epoch 42/70\n",
            "70/70 [==============================] - 3s 48ms/step - loss: 0.7419 - accuracy: 0.7668 - val_loss: 2.2803 - val_accuracy: 0.4960\n",
            "Epoch 43/70\n",
            "70/70 [==============================] - 3s 49ms/step - loss: 0.7163 - accuracy: 0.7703 - val_loss: 2.3201 - val_accuracy: 0.4556\n",
            "Epoch 44/70\n",
            "70/70 [==============================] - 3s 49ms/step - loss: 0.7332 - accuracy: 0.7727 - val_loss: 2.4637 - val_accuracy: 0.4435\n",
            "Epoch 45/70\n",
            "70/70 [==============================] - 3s 48ms/step - loss: 0.7334 - accuracy: 0.7753 - val_loss: 2.3833 - val_accuracy: 0.4879\n",
            "Epoch 46/70\n",
            "70/70 [==============================] - 3s 49ms/step - loss: 0.7003 - accuracy: 0.7805 - val_loss: 2.2875 - val_accuracy: 0.5161\n",
            "Epoch 47/70\n",
            "70/70 [==============================] - 3s 48ms/step - loss: 0.6537 - accuracy: 0.7890 - val_loss: 2.4014 - val_accuracy: 0.5040\n",
            "Epoch 48/70\n",
            "70/70 [==============================] - 3s 48ms/step - loss: 0.7069 - accuracy: 0.7736 - val_loss: 2.3817 - val_accuracy: 0.5323\n",
            "Epoch 49/70\n",
            "70/70 [==============================] - 3s 48ms/step - loss: 0.6637 - accuracy: 0.7873 - val_loss: 2.3914 - val_accuracy: 0.5000\n",
            "Epoch 50/70\n",
            "70/70 [==============================] - 3s 48ms/step - loss: 0.6397 - accuracy: 0.8018 - val_loss: 2.3943 - val_accuracy: 0.5282\n",
            "Epoch 51/70\n",
            "70/70 [==============================] - 3s 49ms/step - loss: 0.5996 - accuracy: 0.8038 - val_loss: 2.5155 - val_accuracy: 0.5040\n",
            "Epoch 52/70\n",
            "70/70 [==============================] - 3s 48ms/step - loss: 0.5538 - accuracy: 0.8347 - val_loss: 2.5222 - val_accuracy: 0.5000\n",
            "Epoch 53/70\n",
            "70/70 [==============================] - 3s 49ms/step - loss: 0.6247 - accuracy: 0.8071 - val_loss: 2.4630 - val_accuracy: 0.5081\n",
            "Epoch 54/70\n",
            "70/70 [==============================] - 3s 48ms/step - loss: 0.5971 - accuracy: 0.8118 - val_loss: 2.4811 - val_accuracy: 0.5000\n",
            "Epoch 55/70\n",
            "70/70 [==============================] - 3s 48ms/step - loss: 0.5261 - accuracy: 0.8325 - val_loss: 2.5122 - val_accuracy: 0.4919\n",
            "Epoch 56/70\n",
            "70/70 [==============================] - 3s 49ms/step - loss: 0.5426 - accuracy: 0.8176 - val_loss: 2.6270 - val_accuracy: 0.4556\n",
            "Epoch 57/70\n",
            "70/70 [==============================] - 3s 48ms/step - loss: 0.5818 - accuracy: 0.8090 - val_loss: 2.3984 - val_accuracy: 0.5040\n",
            "Epoch 58/70\n",
            "70/70 [==============================] - 3s 48ms/step - loss: 0.5114 - accuracy: 0.8423 - val_loss: 2.4430 - val_accuracy: 0.5121\n",
            "Epoch 59/70\n",
            "70/70 [==============================] - 3s 48ms/step - loss: 0.5828 - accuracy: 0.8171 - val_loss: 2.4984 - val_accuracy: 0.5323\n",
            "Epoch 60/70\n",
            "70/70 [==============================] - 3s 48ms/step - loss: 0.5260 - accuracy: 0.8176 - val_loss: 2.6252 - val_accuracy: 0.5000\n",
            "Epoch 61/70\n",
            "70/70 [==============================] - 3s 48ms/step - loss: 0.5582 - accuracy: 0.8264 - val_loss: 2.6559 - val_accuracy: 0.5121\n",
            "Epoch 62/70\n",
            "70/70 [==============================] - 3s 48ms/step - loss: 0.5062 - accuracy: 0.8416 - val_loss: 2.5358 - val_accuracy: 0.4960\n",
            "Epoch 63/70\n",
            "70/70 [==============================] - 3s 48ms/step - loss: 0.5318 - accuracy: 0.8268 - val_loss: 2.5729 - val_accuracy: 0.4879\n",
            "Epoch 64/70\n",
            "70/70 [==============================] - 3s 49ms/step - loss: 0.4731 - accuracy: 0.8466 - val_loss: 2.6307 - val_accuracy: 0.5242\n",
            "Epoch 65/70\n",
            "70/70 [==============================] - 3s 48ms/step - loss: 0.4745 - accuracy: 0.8548 - val_loss: 2.6981 - val_accuracy: 0.4919\n",
            "Epoch 66/70\n",
            "70/70 [==============================] - 3s 48ms/step - loss: 0.4777 - accuracy: 0.8489 - val_loss: 2.8372 - val_accuracy: 0.4879\n",
            "Epoch 67/70\n",
            "70/70 [==============================] - 3s 49ms/step - loss: 0.4883 - accuracy: 0.8462 - val_loss: 2.7383 - val_accuracy: 0.4919\n",
            "Epoch 68/70\n",
            "70/70 [==============================] - 3s 49ms/step - loss: 0.4216 - accuracy: 0.8609 - val_loss: 2.8563 - val_accuracy: 0.4758\n",
            "Epoch 69/70\n",
            "70/70 [==============================] - 3s 48ms/step - loss: 0.4853 - accuracy: 0.8490 - val_loss: 2.9284 - val_accuracy: 0.4637\n",
            "Epoch 70/70\n",
            "70/70 [==============================] - 3s 48ms/step - loss: 0.4073 - accuracy: 0.8681 - val_loss: 2.7447 - val_accuracy: 0.4879\n"
          ],
          "name": "stdout"
        },
        {
          "output_type": "execute_result",
          "data": {
            "text/plain": [
              "<tensorflow.python.keras.callbacks.History at 0x7fa02be48150>"
            ]
          },
          "metadata": {
            "tags": []
          },
          "execution_count": 6
        }
      ]
    },
    {
      "cell_type": "code",
      "metadata": {
        "id": "2cv7SE3BfcoU"
      },
      "source": [
        "#To extract the rar file\n",
        "\n",
        "with RarFile(\"/content/train_t.rar\") as rf:\n",
        "    rf.extractall()"
      ],
      "execution_count": null,
      "outputs": []
    },
    {
      "cell_type": "code",
      "metadata": {
        "id": "8sE38KXisF5i"
      },
      "source": [
        "from keras.datasets import mnist\n",
        "from keras.utils import to_categorical"
      ],
      "execution_count": null,
      "outputs": []
    },
    {
      "cell_type": "code",
      "metadata": {
        "colab": {
          "base_uri": "https://localhost:8080/"
        },
        "id": "rqInCt3gr-lZ",
        "outputId": "1c67edd6-b425-463b-d54e-dd02d8a05d4d"
      },
      "source": [
        "train_dataset = tf.keras.preprocessing.image_dataset_from_directory('/content/train_t', \n",
        "                                                                    labels='inferred', \n",
        "                                                                    label_mode='categorical',\n",
        "                                                                    batch_size=32,\n",
        "                                                                    image_size=(28, 28), color_mode='grayscale',\n",
        "                                                                    validation_split=0.1, \n",
        "                                                                    subset='training', \n",
        "                                                                    seed=3\n",
        "                                                                    )\n",
        "\n",
        "validation_data = tf.keras.preprocessing.image_dataset_from_directory('/content/train_t', \n",
        "                                                                    labels='inferred',\n",
        "                                                                    label_mode='categorical',\n",
        "                                                                    batch_size=32,\n",
        "                                                                    image_size=(28, 28), color_mode='grayscale',\n",
        "                                                                    validation_split=0.1, \n",
        "                                                                    subset='validation', \n",
        "                                                                    seed=3\n",
        "                                                                    )"
      ],
      "execution_count": null,
      "outputs": [
        {
          "output_type": "stream",
          "text": [
            "Found 400 files belonging to 10 classes.\n",
            "Using 360 files for training.\n",
            "Found 400 files belonging to 10 classes.\n",
            "Using 40 files for validation.\n"
          ],
          "name": "stdout"
        }
      ]
    },
    {
      "cell_type": "code",
      "metadata": {
        "id": "XJzl0agTsCwk"
      },
      "source": [
        "from tensorflow import keras\n",
        "from tensorflow.keras.layers.experimental import preprocessing\n",
        "\n",
        "model = tf.keras.models.Sequential(\n",
        "    [\n",
        "        tf.keras.layers.Lambda(lambda x: x/255.0, input_shape=(28, 28, 1)),\n",
        "        tf.keras.layers.Conv2D(32, (5, 5), activation='elu'),\n",
        "        tf.keras.layers.Dropout(0.6),\n",
        "        tf.keras.layers.Conv2D(16, (3, 3), activation='elu'),\n",
        "        tf.keras.layers.MaxPooling2D((2,2)),\n",
        "        tf.keras.layers.Dropout(0.6),\n",
        "        tf.keras.layers.Flatten(),\n",
        "        tf.keras.layers.Dropout(0.6),\n",
        "        tf.keras.layers.Dense(1024, activation='relu'),\n",
        "        tf.keras.layers.Dense(256, activation='relu'),  \n",
        "        tf.keras.layers.Dropout(0.4), \n",
        "        tf.keras.layers.Dense(10, activation='softmax')     \n",
        "    ]\n",
        ")\n",
        "\n",
        "\n",
        "model.compile(optimizer='adam', loss='categorical_crossentropy', metrics=['accuracy'])"
      ],
      "execution_count": null,
      "outputs": []
    },
    {
      "cell_type": "code",
      "metadata": {
        "colab": {
          "base_uri": "https://localhost:8080/"
        },
        "id": "K5To_AAFsVb1",
        "outputId": "f4b7a2e7-2cb3-41ff-c2a4-fc7f4dfe543d"
      },
      "source": [
        "model.fit_generator(train_dataset,validation_data = validation_data, epochs=40)"
      ],
      "execution_count": null,
      "outputs": [
        {
          "output_type": "stream",
          "text": [
            "/usr/local/lib/python3.7/dist-packages/tensorflow/python/keras/engine/training.py:1844: UserWarning: `Model.fit_generator` is deprecated and will be removed in a future version. Please use `Model.fit`, which supports generators.\n",
            "  warnings.warn('`Model.fit_generator` is deprecated and '\n"
          ],
          "name": "stderr"
        },
        {
          "output_type": "stream",
          "text": [
            "Epoch 1/40\n",
            "12/12 [==============================] - 5s 135ms/step - loss: 2.7165 - accuracy: 0.0780 - val_loss: 2.3408 - val_accuracy: 0.0750\n",
            "Epoch 2/40\n",
            "12/12 [==============================] - 4s 115ms/step - loss: 2.3647 - accuracy: 0.1040 - val_loss: 2.3791 - val_accuracy: 0.0750\n",
            "Epoch 3/40\n",
            "12/12 [==============================] - 4s 115ms/step - loss: 2.3334 - accuracy: 0.0888 - val_loss: 2.3480 - val_accuracy: 0.0750\n",
            "Epoch 4/40\n",
            "12/12 [==============================] - 4s 113ms/step - loss: 2.3054 - accuracy: 0.1293 - val_loss: 2.3348 - val_accuracy: 0.0750\n",
            "Epoch 5/40\n",
            "12/12 [==============================] - 4s 116ms/step - loss: 2.2321 - accuracy: 0.1940 - val_loss: 2.3949 - val_accuracy: 0.1000\n",
            "Epoch 6/40\n",
            "12/12 [==============================] - 4s 113ms/step - loss: 2.2530 - accuracy: 0.1798 - val_loss: 2.5417 - val_accuracy: 0.0750\n",
            "Epoch 7/40\n",
            "12/12 [==============================] - 4s 115ms/step - loss: 2.1617 - accuracy: 0.2038 - val_loss: 2.3491 - val_accuracy: 0.1000\n",
            "Epoch 8/40\n",
            "12/12 [==============================] - 4s 113ms/step - loss: 2.1373 - accuracy: 0.1973 - val_loss: 2.2738 - val_accuracy: 0.1750\n",
            "Epoch 9/40\n",
            "12/12 [==============================] - 4s 113ms/step - loss: 2.1062 - accuracy: 0.2311 - val_loss: 2.1178 - val_accuracy: 0.2750\n",
            "Epoch 10/40\n",
            "12/12 [==============================] - 4s 119ms/step - loss: 2.0386 - accuracy: 0.2804 - val_loss: 2.2705 - val_accuracy: 0.2000\n",
            "Epoch 11/40\n",
            "12/12 [==============================] - 4s 118ms/step - loss: 1.8763 - accuracy: 0.3315 - val_loss: 2.0025 - val_accuracy: 0.3500\n",
            "Epoch 12/40\n",
            "12/12 [==============================] - 4s 113ms/step - loss: 1.7897 - accuracy: 0.3871 - val_loss: 2.3548 - val_accuracy: 0.1750\n",
            "Epoch 13/40\n",
            "12/12 [==============================] - 4s 114ms/step - loss: 1.7140 - accuracy: 0.3996 - val_loss: 2.4607 - val_accuracy: 0.2500\n",
            "Epoch 14/40\n",
            "12/12 [==============================] - 4s 114ms/step - loss: 1.7800 - accuracy: 0.3944 - val_loss: 2.1725 - val_accuracy: 0.2750\n",
            "Epoch 15/40\n",
            "12/12 [==============================] - 4s 114ms/step - loss: 1.7277 - accuracy: 0.4375 - val_loss: 2.0768 - val_accuracy: 0.2750\n",
            "Epoch 16/40\n",
            "12/12 [==============================] - 4s 114ms/step - loss: 1.6444 - accuracy: 0.4234 - val_loss: 2.1318 - val_accuracy: 0.2250\n",
            "Epoch 17/40\n",
            "12/12 [==============================] - 4s 114ms/step - loss: 1.6470 - accuracy: 0.4482 - val_loss: 1.9976 - val_accuracy: 0.2750\n",
            "Epoch 18/40\n",
            "12/12 [==============================] - 4s 114ms/step - loss: 1.5717 - accuracy: 0.4357 - val_loss: 1.7814 - val_accuracy: 0.4250\n",
            "Epoch 19/40\n",
            "12/12 [==============================] - 4s 113ms/step - loss: 1.4813 - accuracy: 0.4901 - val_loss: 1.7222 - val_accuracy: 0.4500\n",
            "Epoch 20/40\n",
            "12/12 [==============================] - 4s 113ms/step - loss: 1.5203 - accuracy: 0.4883 - val_loss: 1.6000 - val_accuracy: 0.5250\n",
            "Epoch 21/40\n",
            "12/12 [==============================] - 4s 115ms/step - loss: 1.5885 - accuracy: 0.4658 - val_loss: 1.6707 - val_accuracy: 0.4750\n",
            "Epoch 22/40\n",
            "12/12 [==============================] - 4s 115ms/step - loss: 1.4237 - accuracy: 0.4891 - val_loss: 1.6095 - val_accuracy: 0.5500\n",
            "Epoch 23/40\n",
            "12/12 [==============================] - 4s 116ms/step - loss: 1.3167 - accuracy: 0.5438 - val_loss: 1.5469 - val_accuracy: 0.5250\n",
            "Epoch 24/40\n",
            "12/12 [==============================] - 4s 114ms/step - loss: 1.3597 - accuracy: 0.5325 - val_loss: 1.6779 - val_accuracy: 0.5250\n",
            "Epoch 25/40\n",
            "12/12 [==============================] - 4s 113ms/step - loss: 1.3510 - accuracy: 0.5113 - val_loss: 1.5753 - val_accuracy: 0.5000\n",
            "Epoch 26/40\n",
            "12/12 [==============================] - 4s 113ms/step - loss: 1.3339 - accuracy: 0.5823 - val_loss: 1.4815 - val_accuracy: 0.5750\n",
            "Epoch 27/40\n",
            "12/12 [==============================] - 4s 113ms/step - loss: 1.4070 - accuracy: 0.5355 - val_loss: 1.5598 - val_accuracy: 0.5750\n",
            "Epoch 28/40\n",
            "12/12 [==============================] - 4s 114ms/step - loss: 1.1716 - accuracy: 0.6193 - val_loss: 1.5902 - val_accuracy: 0.4500\n",
            "Epoch 29/40\n",
            "12/12 [==============================] - 4s 114ms/step - loss: 1.1937 - accuracy: 0.5980 - val_loss: 1.5217 - val_accuracy: 0.4500\n",
            "Epoch 30/40\n",
            "12/12 [==============================] - 4s 113ms/step - loss: 1.2012 - accuracy: 0.6022 - val_loss: 1.4872 - val_accuracy: 0.5250\n",
            "Epoch 31/40\n",
            "12/12 [==============================] - 4s 114ms/step - loss: 1.2118 - accuracy: 0.5837 - val_loss: 1.4841 - val_accuracy: 0.5750\n",
            "Epoch 32/40\n",
            "12/12 [==============================] - 4s 114ms/step - loss: 1.2365 - accuracy: 0.5534 - val_loss: 1.5401 - val_accuracy: 0.4250\n",
            "Epoch 33/40\n",
            "12/12 [==============================] - 4s 114ms/step - loss: 1.1901 - accuracy: 0.5904 - val_loss: 1.5951 - val_accuracy: 0.4500\n",
            "Epoch 34/40\n",
            "12/12 [==============================] - 4s 114ms/step - loss: 1.0846 - accuracy: 0.6091 - val_loss: 1.4897 - val_accuracy: 0.4500\n",
            "Epoch 35/40\n",
            "12/12 [==============================] - 4s 113ms/step - loss: 1.1604 - accuracy: 0.5924 - val_loss: 1.4669 - val_accuracy: 0.4500\n",
            "Epoch 36/40\n",
            "12/12 [==============================] - 4s 114ms/step - loss: 1.1059 - accuracy: 0.6079 - val_loss: 1.4087 - val_accuracy: 0.4750\n",
            "Epoch 37/40\n",
            "12/12 [==============================] - 4s 117ms/step - loss: 1.1019 - accuracy: 0.5818 - val_loss: 1.4323 - val_accuracy: 0.4750\n",
            "Epoch 38/40\n",
            "12/12 [==============================] - 4s 114ms/step - loss: 1.1175 - accuracy: 0.5689 - val_loss: 1.4571 - val_accuracy: 0.5000\n",
            "Epoch 39/40\n",
            "12/12 [==============================] - 4s 113ms/step - loss: 0.9628 - accuracy: 0.6596 - val_loss: 1.3958 - val_accuracy: 0.5250\n",
            "Epoch 40/40\n",
            "12/12 [==============================] - 4s 114ms/step - loss: 0.9400 - accuracy: 0.7000 - val_loss: 1.4838 - val_accuracy: 0.4500\n"
          ],
          "name": "stdout"
        },
        {
          "output_type": "execute_result",
          "data": {
            "text/plain": [
              "<tensorflow.python.keras.callbacks.History at 0x7f9fde122910>"
            ]
          },
          "metadata": {
            "tags": []
          },
          "execution_count": 18
        }
      ]
    },
    {
      "cell_type": "code",
      "metadata": {
        "id": "F0mwM0yZsYRn"
      },
      "source": [
        "from keras.datasets import mnist\n",
        "\n",
        "def load_dataset():\n",
        "\t# load dataset\n",
        "\t(trainX, trainY), (testX, testY) = mnist.load_data()\n",
        "\t# reshape dataset to have a single channel\n",
        "\ttrainX = trainX.reshape((trainX.shape[0], 28, 28, 1))\n",
        "\ttestX = testX.reshape((testX.shape[0], 28, 28, 1))\n",
        "\t# one hot encode target values\n",
        "\ttrainY = to_categorical(trainY)\n",
        "\ttestY = to_categorical(testY)\n",
        "\treturn trainX, trainY, testX, testY\n",
        "\n",
        "\n",
        "train_x, train_y, test_x, test_y = load_dataset()"
      ],
      "execution_count": null,
      "outputs": []
    },
    {
      "cell_type": "code",
      "metadata": {
        "colab": {
          "base_uri": "https://localhost:8080/"
        },
        "id": "1B70VHX_t-4n",
        "outputId": "b747203b-499f-4e2b-8813-c62c113f92b4"
      },
      "source": [
        "checkpoint = ModelCheckpoint(\n",
        "        './task2/model-{epoch:03d}.h5', monitor='val_loss', verbose=0, save_best_only=True, mode='auto')\n",
        "\n",
        "model.fit(train_x, train_y, epochs=10,callbacks=[checkpoint], validation_data=(test_x, test_y))"
      ],
      "execution_count": null,
      "outputs": [
        {
          "output_type": "stream",
          "text": [
            "Epoch 1/10\n",
            "1875/1875 [==============================] - 7s 4ms/step - loss: 0.4965 - accuracy: 0.8480 - val_loss: 0.1242 - val_accuracy: 0.9612\n",
            "Epoch 2/10\n",
            "1875/1875 [==============================] - 7s 4ms/step - loss: 0.2657 - accuracy: 0.9221 - val_loss: 0.0839 - val_accuracy: 0.9764\n",
            "Epoch 3/10\n",
            "1875/1875 [==============================] - 7s 4ms/step - loss: 0.2291 - accuracy: 0.9336 - val_loss: 0.0918 - val_accuracy: 0.9755\n",
            "Epoch 4/10\n",
            "1875/1875 [==============================] - 7s 4ms/step - loss: 0.2083 - accuracy: 0.9399 - val_loss: 0.0922 - val_accuracy: 0.9751\n",
            "Epoch 5/10\n",
            "1875/1875 [==============================] - 7s 4ms/step - loss: 0.1937 - accuracy: 0.9429 - val_loss: 0.0878 - val_accuracy: 0.9749\n",
            "Epoch 6/10\n",
            "1875/1875 [==============================] - 7s 4ms/step - loss: 0.1879 - accuracy: 0.9456 - val_loss: 0.1411 - val_accuracy: 0.9636\n",
            "Epoch 7/10\n",
            "1875/1875 [==============================] - 7s 4ms/step - loss: 0.1838 - accuracy: 0.9482 - val_loss: 0.0825 - val_accuracy: 0.9768\n",
            "Epoch 8/10\n",
            "1875/1875 [==============================] - 7s 4ms/step - loss: 0.1766 - accuracy: 0.9498 - val_loss: 0.0750 - val_accuracy: 0.9795\n",
            "Epoch 9/10\n",
            "1875/1875 [==============================] - 7s 4ms/step - loss: 0.1728 - accuracy: 0.9510 - val_loss: 0.1170 - val_accuracy: 0.9683\n",
            "Epoch 10/10\n",
            "1875/1875 [==============================] - 7s 4ms/step - loss: 0.1700 - accuracy: 0.9514 - val_loss: 0.0752 - val_accuracy: 0.9793\n"
          ],
          "name": "stdout"
        },
        {
          "output_type": "execute_result",
          "data": {
            "text/plain": [
              "<tensorflow.python.keras.callbacks.History at 0x7f9fde0ec590>"
            ]
          },
          "metadata": {
            "tags": []
          },
          "execution_count": 20
        }
      ]
    },
    {
      "cell_type": "code",
      "metadata": {
        "id": "b0_E8IDN3et-"
      },
      "source": [
        ""
      ],
      "execution_count": null,
      "outputs": []
    }
  ]
}